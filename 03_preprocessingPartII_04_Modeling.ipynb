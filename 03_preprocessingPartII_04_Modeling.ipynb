{
  "cells": [
    {
      "cell_type": "markdown",
      "metadata": {
        "id": "view-in-github",
        "colab_type": "text"
      },
      "source": [
        "<a href=\"https://colab.research.google.com/github/Kylehanna/Instacart-Market-Basket-Analysis/blob/main/03_preprocessingPartII_04_Modeling.ipynb\" target=\"_parent\"><img src=\"https://colab.research.google.com/assets/colab-badge.svg\" alt=\"Open In Colab\"/></a>"
      ]
    },
    {
      "cell_type": "code",
      "execution_count": null,
      "id": "68f7964c",
      "metadata": {
        "id": "68f7964c"
      },
      "outputs": [],
      "source": [
        "import pandas as pd \n",
        "import numpy as np\n",
        "import seaborn as sns \n",
        "import matplotlib.pyplot as plt\n",
        "import os \n",
        "from statsmodels.graphics.mosaicplot import mosaic\n",
        "color = sns.color_palette()\n",
        "\n",
        "import warnings\n",
        "warnings.filterwarnings(\"ignore\")"
      ]
    },
    {
      "cell_type": "code",
      "execution_count": null,
      "id": "8f31ef1c",
      "metadata": {
        "id": "8f31ef1c"
      },
      "outputs": [],
      "source": [
        "data_train = pd.read_csv('../../data/data_train.csv')"
      ]
    },
    {
      "cell_type": "code",
      "execution_count": null,
      "id": "b97205cc",
      "metadata": {
        "id": "b97205cc",
        "outputId": "8edff7c8-3ee0-4ff7-d61d-22a12bdd9279"
      },
      "outputs": [
        {
          "data": {
            "text/html": [
              "<div>\n",
              "<style scoped>\n",
              "    .dataframe tbody tr th:only-of-type {\n",
              "        vertical-align: middle;\n",
              "    }\n",
              "\n",
              "    .dataframe tbody tr th {\n",
              "        vertical-align: top;\n",
              "    }\n",
              "\n",
              "    .dataframe thead th {\n",
              "        text-align: right;\n",
              "    }\n",
              "</style>\n",
              "<table border=\"1\" class=\"dataframe\">\n",
              "  <thead>\n",
              "    <tr style=\"text-align: right;\">\n",
              "      <th></th>\n",
              "      <th>Unnamed: 0</th>\n",
              "      <th>user_id</th>\n",
              "      <th>product_id</th>\n",
              "      <th>uxp_times_bought</th>\n",
              "      <th>uxp_reordered_ratio</th>\n",
              "      <th>u_num_of_orders</th>\n",
              "      <th>u_avg_prd</th>\n",
              "      <th>dow_most_orders_u</th>\n",
              "      <th>prd_count_p</th>\n",
              "      <th>p_reordered_ratio</th>\n",
              "      <th>reordered</th>\n",
              "    </tr>\n",
              "  </thead>\n",
              "  <tbody>\n",
              "    <tr>\n",
              "      <th>0</th>\n",
              "      <td>0</td>\n",
              "      <td>1</td>\n",
              "      <td>196</td>\n",
              "      <td>10</td>\n",
              "      <td>0.900000</td>\n",
              "      <td>10</td>\n",
              "      <td>5.9</td>\n",
              "      <td>4</td>\n",
              "      <td>35791</td>\n",
              "      <td>0.776480</td>\n",
              "      <td>1.0</td>\n",
              "    </tr>\n",
              "    <tr>\n",
              "      <th>1</th>\n",
              "      <td>1</td>\n",
              "      <td>1</td>\n",
              "      <td>10258</td>\n",
              "      <td>9</td>\n",
              "      <td>0.888889</td>\n",
              "      <td>10</td>\n",
              "      <td>5.9</td>\n",
              "      <td>4</td>\n",
              "      <td>1946</td>\n",
              "      <td>0.713772</td>\n",
              "      <td>1.0</td>\n",
              "    </tr>\n",
              "    <tr>\n",
              "      <th>2</th>\n",
              "      <td>2</td>\n",
              "      <td>1</td>\n",
              "      <td>10326</td>\n",
              "      <td>1</td>\n",
              "      <td>0.000000</td>\n",
              "      <td>10</td>\n",
              "      <td>5.9</td>\n",
              "      <td>4</td>\n",
              "      <td>5526</td>\n",
              "      <td>0.652009</td>\n",
              "      <td>0.0</td>\n",
              "    </tr>\n",
              "    <tr>\n",
              "      <th>3</th>\n",
              "      <td>3</td>\n",
              "      <td>1</td>\n",
              "      <td>12427</td>\n",
              "      <td>10</td>\n",
              "      <td>0.900000</td>\n",
              "      <td>10</td>\n",
              "      <td>5.9</td>\n",
              "      <td>4</td>\n",
              "      <td>6476</td>\n",
              "      <td>0.740735</td>\n",
              "      <td>0.0</td>\n",
              "    </tr>\n",
              "    <tr>\n",
              "      <th>4</th>\n",
              "      <td>4</td>\n",
              "      <td>1</td>\n",
              "      <td>13032</td>\n",
              "      <td>3</td>\n",
              "      <td>0.666667</td>\n",
              "      <td>10</td>\n",
              "      <td>5.9</td>\n",
              "      <td>4</td>\n",
              "      <td>3751</td>\n",
              "      <td>0.657158</td>\n",
              "      <td>1.0</td>\n",
              "    </tr>\n",
              "  </tbody>\n",
              "</table>\n",
              "</div>"
            ],
            "text/plain": [
              "   Unnamed: 0  user_id  product_id  uxp_times_bought  uxp_reordered_ratio  \\\n",
              "0           0        1         196                10             0.900000   \n",
              "1           1        1       10258                 9             0.888889   \n",
              "2           2        1       10326                 1             0.000000   \n",
              "3           3        1       12427                10             0.900000   \n",
              "4           4        1       13032                 3             0.666667   \n",
              "\n",
              "   u_num_of_orders  u_avg_prd  dow_most_orders_u  prd_count_p  \\\n",
              "0               10        5.9                  4        35791   \n",
              "1               10        5.9                  4         1946   \n",
              "2               10        5.9                  4         5526   \n",
              "3               10        5.9                  4         6476   \n",
              "4               10        5.9                  4         3751   \n",
              "\n",
              "   p_reordered_ratio  reordered  \n",
              "0           0.776480        1.0  \n",
              "1           0.713772        1.0  \n",
              "2           0.652009        0.0  \n",
              "3           0.740735        0.0  \n",
              "4           0.657158        1.0  "
            ]
          },
          "execution_count": 52,
          "metadata": {},
          "output_type": "execute_result"
        }
      ],
      "source": [
        "data_train.head()"
      ]
    },
    {
      "cell_type": "code",
      "execution_count": null,
      "id": "19abecab",
      "metadata": {
        "id": "19abecab"
      },
      "outputs": [],
      "source": [
        "data_test = pd.read_csv('../../data/data_test.csv')"
      ]
    },
    {
      "cell_type": "code",
      "execution_count": null,
      "id": "99edcc28",
      "metadata": {
        "id": "99edcc28",
        "outputId": "bf012451-2723-4d6e-f704-05a8a4a6613d"
      },
      "outputs": [
        {
          "data": {
            "text/html": [
              "<div>\n",
              "<style scoped>\n",
              "    .dataframe tbody tr th:only-of-type {\n",
              "        vertical-align: middle;\n",
              "    }\n",
              "\n",
              "    .dataframe tbody tr th {\n",
              "        vertical-align: top;\n",
              "    }\n",
              "\n",
              "    .dataframe thead th {\n",
              "        text-align: right;\n",
              "    }\n",
              "</style>\n",
              "<table border=\"1\" class=\"dataframe\">\n",
              "  <thead>\n",
              "    <tr style=\"text-align: right;\">\n",
              "      <th></th>\n",
              "      <th>Unnamed: 0</th>\n",
              "      <th>user_id</th>\n",
              "      <th>product_id</th>\n",
              "      <th>uxp_times_bought</th>\n",
              "      <th>uxp_reordered_ratio</th>\n",
              "      <th>u_num_of_orders</th>\n",
              "      <th>u_avg_prd</th>\n",
              "      <th>dow_most_orders_u</th>\n",
              "      <th>prd_count_p</th>\n",
              "      <th>p_reordered_ratio</th>\n",
              "    </tr>\n",
              "  </thead>\n",
              "  <tbody>\n",
              "    <tr>\n",
              "      <th>0</th>\n",
              "      <td>0</td>\n",
              "      <td>3</td>\n",
              "      <td>248</td>\n",
              "      <td>1</td>\n",
              "      <td>0.000000</td>\n",
              "      <td>12</td>\n",
              "      <td>7.333333</td>\n",
              "      <td>0</td>\n",
              "      <td>6371</td>\n",
              "      <td>0.400251</td>\n",
              "    </tr>\n",
              "    <tr>\n",
              "      <th>1</th>\n",
              "      <td>1</td>\n",
              "      <td>3</td>\n",
              "      <td>1005</td>\n",
              "      <td>1</td>\n",
              "      <td>0.000000</td>\n",
              "      <td>12</td>\n",
              "      <td>7.333333</td>\n",
              "      <td>0</td>\n",
              "      <td>463</td>\n",
              "      <td>0.440605</td>\n",
              "    </tr>\n",
              "    <tr>\n",
              "      <th>2</th>\n",
              "      <td>2</td>\n",
              "      <td>3</td>\n",
              "      <td>1819</td>\n",
              "      <td>3</td>\n",
              "      <td>0.666667</td>\n",
              "      <td>12</td>\n",
              "      <td>7.333333</td>\n",
              "      <td>0</td>\n",
              "      <td>2424</td>\n",
              "      <td>0.492162</td>\n",
              "    </tr>\n",
              "    <tr>\n",
              "      <th>3</th>\n",
              "      <td>3</td>\n",
              "      <td>3</td>\n",
              "      <td>7503</td>\n",
              "      <td>1</td>\n",
              "      <td>0.000000</td>\n",
              "      <td>12</td>\n",
              "      <td>7.333333</td>\n",
              "      <td>0</td>\n",
              "      <td>12474</td>\n",
              "      <td>0.553551</td>\n",
              "    </tr>\n",
              "    <tr>\n",
              "      <th>4</th>\n",
              "      <td>4</td>\n",
              "      <td>3</td>\n",
              "      <td>8021</td>\n",
              "      <td>1</td>\n",
              "      <td>0.000000</td>\n",
              "      <td>12</td>\n",
              "      <td>7.333333</td>\n",
              "      <td>0</td>\n",
              "      <td>27864</td>\n",
              "      <td>0.591157</td>\n",
              "    </tr>\n",
              "  </tbody>\n",
              "</table>\n",
              "</div>"
            ],
            "text/plain": [
              "   Unnamed: 0  user_id  product_id  uxp_times_bought  uxp_reordered_ratio  \\\n",
              "0           0        3         248                 1             0.000000   \n",
              "1           1        3        1005                 1             0.000000   \n",
              "2           2        3        1819                 3             0.666667   \n",
              "3           3        3        7503                 1             0.000000   \n",
              "4           4        3        8021                 1             0.000000   \n",
              "\n",
              "   u_num_of_orders  u_avg_prd  dow_most_orders_u  prd_count_p  \\\n",
              "0               12   7.333333                  0         6371   \n",
              "1               12   7.333333                  0          463   \n",
              "2               12   7.333333                  0         2424   \n",
              "3               12   7.333333                  0        12474   \n",
              "4               12   7.333333                  0        27864   \n",
              "\n",
              "   p_reordered_ratio  \n",
              "0           0.400251  \n",
              "1           0.440605  \n",
              "2           0.492162  \n",
              "3           0.553551  \n",
              "4           0.591157  "
            ]
          },
          "execution_count": 54,
          "metadata": {},
          "output_type": "execute_result"
        }
      ],
      "source": [
        "data_test.head()"
      ]
    },
    {
      "cell_type": "code",
      "execution_count": null,
      "id": "bc068389",
      "metadata": {
        "id": "bc068389"
      },
      "outputs": [],
      "source": [
        "data_test = data_test.drop(columns=['Unnamed: 0'])"
      ]
    },
    {
      "cell_type": "code",
      "execution_count": null,
      "id": "e8a56f4f",
      "metadata": {
        "id": "e8a56f4f"
      },
      "outputs": [],
      "source": [
        "products = pd.read_csv('../../data/products.csv')"
      ]
    },
    {
      "cell_type": "code",
      "execution_count": null,
      "id": "3dce21a3",
      "metadata": {
        "id": "3dce21a3"
      },
      "outputs": [],
      "source": [
        "#merging the aisles and department ids to with the train and test data\n",
        "data_train = data_train.merge(products[['product_id', 'aisle_id']], on='product_id', how='left')\n",
        "\n",
        "data_test = data_test.merge(products[['product_id', 'aisle_id']], on='product_id', how='left')"
      ]
    },
    {
      "cell_type": "code",
      "execution_count": null,
      "id": "vDfhDE6Aa_uF",
      "metadata": {
        "id": "vDfhDE6Aa_uF"
      },
      "outputs": [],
      "source": [
        "#department\n",
        "data_train = data_train.merge(products[['product_id', 'department_id']], on='product_id', how='left')\n",
        "data_test = data_test.merge(products[['product_id', 'department_id']], on='product_id', how='left')"
      ]
    },
    {
      "cell_type": "code",
      "execution_count": null,
      "id": "oPJ4E3vua_rf",
      "metadata": {
        "id": "oPJ4E3vua_rf"
      },
      "outputs": [],
      "source": [
        "#setting user_id and product_id as index.\n",
        "data_test = data_test.set_index(['user_id', 'product_id'])\n",
        "#setting user_id and product_id as index.\n",
        "data_train = data_train.set_index(['user_id', 'product_id'])"
      ]
    },
    {
      "cell_type": "code",
      "execution_count": null,
      "id": "eHDjoHBba_o-",
      "metadata": {
        "id": "eHDjoHBba_o-"
      },
      "outputs": [],
      "source": [
        "y_train = data_train.reordered\n",
        "X_train = data_train.drop(columns=['reordered'])"
      ]
    },
    {
      "cell_type": "code",
      "execution_count": null,
      "id": "79d17f6e",
      "metadata": {
        "id": "79d17f6e"
      },
      "outputs": [],
      "source": [
        "import xgboost as xgb"
      ]
    },
    {
      "cell_type": "code",
      "execution_count": null,
      "id": "09f4417b",
      "metadata": {
        "id": "09f4417b"
      },
      "outputs": [],
      "source": [
        "y_train = y_train.drop(columns=['user_id','product_id'])"
      ]
    },
    {
      "cell_type": "code",
      "execution_count": null,
      "id": "5b5aa0de",
      "metadata": {
        "id": "5b5aa0de"
      },
      "outputs": [],
      "source": [
        "X_train = X_train.drop(columns=['Unnamed: 0'])"
      ]
    },
    {
      "cell_type": "code",
      "execution_count": null,
      "id": "e2cecdfe",
      "metadata": {
        "id": "e2cecdfe",
        "outputId": "27ce105d-a486-4c31-90a3-f0243b5ac536"
      },
      "outputs": [
        {
          "name": "stdout",
          "output_type": "stream",
          "text": [
            "[08:35:56] WARNING: /Users/runner/work/xgboost/xgboost/src/learner.cc:576: \n",
            "Parameters: { \"num_boost_round\", \"parameters\" } might not be used.\n",
            "\n",
            "  This could be a false alarm, with some parameters getting used by language bindings but\n",
            "  then being mistakenly passed down to XGBoost core, or some parameter actually being used\n",
            "  but getting flagged wrongly here. Please open an issue if you find any such cases.\n",
            "\n",
            "\n",
            "[08:36:00] WARNING: /Users/runner/work/xgboost/xgboost/src/learner.cc:1115: Starting in XGBoost 1.3.0, the default evaluation metric used with the objective 'binary:logistic' was changed from 'error' to 'logloss'. Explicitly set eval_metric if you'd like to restore the old behavior.\n"
          ]
        },
        {
          "data": {
            "text/plain": [
              "<AxesSubplot:title={'center':'Feature importance'}, xlabel='F score', ylabel='Features'>"
            ]
          },
          "execution_count": 64,
          "metadata": {},
          "output_type": "execute_result"
        },
        {
          "data": {
            "image/png": "[encoded data removed]",
            "text/plain": [
              "<Figure size 432x288 with 1 Axes>"
            ]
          },
          "metadata": {
            "needs_background": "light"
          },
          "output_type": "display_data"
        }
      ],
      "source": [
        "# Build XGBoost model\n",
        "#setting boosters parameters\n",
        "parameters = {\n",
        "    'eval_metric' : 'logloss',\n",
        "    'max_depth' : 5,\n",
        "    'colsample_bytree' : 0.4,\n",
        "    'subsample' : 0.8\n",
        "}\n",
        "\n",
        "#instantiating the model\n",
        "xgb_clf = xgb.XGBClassifier(objective='binary:logistic', parameters=parameters, num_boost_round=10)\n",
        "\n",
        "# TRAIN MODEL\n",
        "model = xgb_clf.fit(X_train, y_train)\n",
        "\n",
        "#FEATURE IMPORTANCE - GRAPHICAL\n",
        "xgb.plot_importance(model)"
      ]
    },
    {
      "cell_type": "code",
      "execution_count": null,
      "id": "18a049c7",
      "metadata": {
        "id": "18a049c7",
        "outputId": "c497ac41-e9d3-4c27-dafb-a10e0053a984"
      },
      "outputs": [
        {
          "data": {
            "text/plain": [
              "array([0, 0, 0, 0, 0, 1, 0, 0, 0, 1])"
            ]
          },
          "execution_count": 65,
          "metadata": {},
          "output_type": "execute_result"
        }
      ],
      "source": [
        "#predicting on the testing data\n",
        "y_pred = xgb_clf.predict(data_test).astype('int')\n",
        "\n",
        "#setting a threshold.\n",
        "y_pred = (xgb_clf.predict_proba(data_test)[:, 1] >= 0.21).astype('int')\n",
        "y_pred[0:10]"
      ]
    },
    {
      "cell_type": "code",
      "execution_count": null,
      "id": "ad7e3805",
      "metadata": {
        "id": "ad7e3805",
        "outputId": "df9346f1-0da7-44a1-e84e-aad5804ba308"
      },
      "outputs": [
        {
          "data": {
            "text/html": [
              "<div>\n",
              "<style scoped>\n",
              "    .dataframe tbody tr th:only-of-type {\n",
              "        vertical-align: middle;\n",
              "    }\n",
              "\n",
              "    .dataframe tbody tr th {\n",
              "        vertical-align: top;\n",
              "    }\n",
              "\n",
              "    .dataframe thead th {\n",
              "        text-align: right;\n",
              "    }\n",
              "</style>\n",
              "<table border=\"1\" class=\"dataframe\">\n",
              "  <thead>\n",
              "    <tr style=\"text-align: right;\">\n",
              "      <th></th>\n",
              "      <th></th>\n",
              "      <th>uxp_times_bought</th>\n",
              "      <th>uxp_reordered_ratio</th>\n",
              "      <th>u_num_of_orders</th>\n",
              "      <th>u_avg_prd</th>\n",
              "      <th>dow_most_orders_u</th>\n",
              "      <th>prd_count_p</th>\n",
              "      <th>p_reordered_ratio</th>\n",
              "      <th>aisle_id</th>\n",
              "      <th>department_id</th>\n",
              "      <th>prediction</th>\n",
              "    </tr>\n",
              "    <tr>\n",
              "      <th>user_id</th>\n",
              "      <th>product_id</th>\n",
              "      <th></th>\n",
              "      <th></th>\n",
              "      <th></th>\n",
              "      <th></th>\n",
              "      <th></th>\n",
              "      <th></th>\n",
              "      <th></th>\n",
              "      <th></th>\n",
              "      <th></th>\n",
              "      <th></th>\n",
              "    </tr>\n",
              "  </thead>\n",
              "  <tbody>\n",
              "    <tr>\n",
              "      <th rowspan=\"5\" valign=\"top\">3</th>\n",
              "      <th>248</th>\n",
              "      <td>1</td>\n",
              "      <td>0.000000</td>\n",
              "      <td>12</td>\n",
              "      <td>7.333333</td>\n",
              "      <td>0</td>\n",
              "      <td>6371</td>\n",
              "      <td>0.400251</td>\n",
              "      <td>117</td>\n",
              "      <td>19</td>\n",
              "      <td>0</td>\n",
              "    </tr>\n",
              "    <tr>\n",
              "      <th>1005</th>\n",
              "      <td>1</td>\n",
              "      <td>0.000000</td>\n",
              "      <td>12</td>\n",
              "      <td>7.333333</td>\n",
              "      <td>0</td>\n",
              "      <td>463</td>\n",
              "      <td>0.440605</td>\n",
              "      <td>94</td>\n",
              "      <td>7</td>\n",
              "      <td>0</td>\n",
              "    </tr>\n",
              "    <tr>\n",
              "      <th>1819</th>\n",
              "      <td>3</td>\n",
              "      <td>0.666667</td>\n",
              "      <td>12</td>\n",
              "      <td>7.333333</td>\n",
              "      <td>0</td>\n",
              "      <td>2424</td>\n",
              "      <td>0.492162</td>\n",
              "      <td>88</td>\n",
              "      <td>13</td>\n",
              "      <td>0</td>\n",
              "    </tr>\n",
              "    <tr>\n",
              "      <th>7503</th>\n",
              "      <td>1</td>\n",
              "      <td>0.000000</td>\n",
              "      <td>12</td>\n",
              "      <td>7.333333</td>\n",
              "      <td>0</td>\n",
              "      <td>12474</td>\n",
              "      <td>0.553551</td>\n",
              "      <td>117</td>\n",
              "      <td>19</td>\n",
              "      <td>0</td>\n",
              "    </tr>\n",
              "    <tr>\n",
              "      <th>8021</th>\n",
              "      <td>1</td>\n",
              "      <td>0.000000</td>\n",
              "      <td>12</td>\n",
              "      <td>7.333333</td>\n",
              "      <td>0</td>\n",
              "      <td>27864</td>\n",
              "      <td>0.591157</td>\n",
              "      <td>54</td>\n",
              "      <td>17</td>\n",
              "      <td>0</td>\n",
              "    </tr>\n",
              "  </tbody>\n",
              "</table>\n",
              "</div>"
            ],
            "text/plain": [
              "                    uxp_times_bought  uxp_reordered_ratio  u_num_of_orders  \\\n",
              "user_id product_id                                                           \n",
              "3       248                        1             0.000000               12   \n",
              "        1005                       1             0.000000               12   \n",
              "        1819                       3             0.666667               12   \n",
              "        7503                       1             0.000000               12   \n",
              "        8021                       1             0.000000               12   \n",
              "\n",
              "                    u_avg_prd  dow_most_orders_u  prd_count_p  \\\n",
              "user_id product_id                                              \n",
              "3       248          7.333333                  0         6371   \n",
              "        1005         7.333333                  0          463   \n",
              "        1819         7.333333                  0         2424   \n",
              "        7503         7.333333                  0        12474   \n",
              "        8021         7.333333                  0        27864   \n",
              "\n",
              "                    p_reordered_ratio  aisle_id  department_id  prediction  \n",
              "user_id product_id                                                          \n",
              "3       248                  0.400251       117             19           0  \n",
              "        1005                 0.440605        94              7           0  \n",
              "        1819                 0.492162        88             13           0  \n",
              "        7503                 0.553551       117             19           0  \n",
              "        8021                 0.591157        54             17           0  "
            ]
          },
          "execution_count": 66,
          "metadata": {},
          "output_type": "execute_result"
        }
      ],
      "source": [
        "#saving the prediction as a new column in data_test\n",
        "data_test['prediction'] = y_pred\n",
        "data_test.head()"
      ]
    },
    {
      "cell_type": "code",
      "execution_count": null,
      "id": "d31db8e1",
      "metadata": {
        "id": "d31db8e1",
        "outputId": "f1575904-3602-46f8-cc03-ec2d18edadaf"
      },
      "outputs": [
        {
          "data": {
            "text/html": [
              "<div>\n",
              "<style scoped>\n",
              "    .dataframe tbody tr th:only-of-type {\n",
              "        vertical-align: middle;\n",
              "    }\n",
              "\n",
              "    .dataframe tbody tr th {\n",
              "        vertical-align: top;\n",
              "    }\n",
              "\n",
              "    .dataframe thead th {\n",
              "        text-align: right;\n",
              "    }\n",
              "</style>\n",
              "<table border=\"1\" class=\"dataframe\">\n",
              "  <thead>\n",
              "    <tr style=\"text-align: right;\">\n",
              "      <th></th>\n",
              "      <th>product_id</th>\n",
              "      <th>user_id</th>\n",
              "      <th>prediction</th>\n",
              "    </tr>\n",
              "  </thead>\n",
              "  <tbody>\n",
              "    <tr>\n",
              "      <th>0</th>\n",
              "      <td>248</td>\n",
              "      <td>3</td>\n",
              "      <td>0</td>\n",
              "    </tr>\n",
              "    <tr>\n",
              "      <th>1</th>\n",
              "      <td>1005</td>\n",
              "      <td>3</td>\n",
              "      <td>0</td>\n",
              "    </tr>\n",
              "    <tr>\n",
              "      <th>2</th>\n",
              "      <td>1819</td>\n",
              "      <td>3</td>\n",
              "      <td>0</td>\n",
              "    </tr>\n",
              "    <tr>\n",
              "      <th>3</th>\n",
              "      <td>7503</td>\n",
              "      <td>3</td>\n",
              "      <td>0</td>\n",
              "    </tr>\n",
              "    <tr>\n",
              "      <th>4</th>\n",
              "      <td>8021</td>\n",
              "      <td>3</td>\n",
              "      <td>0</td>\n",
              "    </tr>\n",
              "  </tbody>\n",
              "</table>\n",
              "</div>"
            ],
            "text/plain": [
              "   product_id  user_id  prediction\n",
              "0         248        3           0\n",
              "1        1005        3           0\n",
              "2        1819        3           0\n",
              "3        7503        3           0\n",
              "4        8021        3           0"
            ]
          },
          "execution_count": 67,
          "metadata": {},
          "output_type": "execute_result"
        }
      ],
      "source": [
        "# Reset the index\n",
        "final = data_test.reset_index()\n",
        "# Keep only the required columns to create our submission file\n",
        "final = final[['product_id', 'user_id', 'prediction']]\n",
        "\n",
        "#gc.collect()\n",
        "final.head()"
      ]
    },
    {
      "cell_type": "code",
      "execution_count": null,
      "id": "304733f1",
      "metadata": {
        "id": "304733f1"
      },
      "outputs": [],
      "source": [
        "orders = pd.read_csv('../../data/orders.csv')"
      ]
    },
    {
      "cell_type": "code",
      "execution_count": null,
      "id": "289dcc8c",
      "metadata": {
        "id": "289dcc8c",
        "outputId": "655316f5-56d9-4e53-954c-3a12f73a3fa0"
      },
      "outputs": [
        {
          "data": {
            "text/html": [
              "<div>\n",
              "<style scoped>\n",
              "    .dataframe tbody tr th:only-of-type {\n",
              "        vertical-align: middle;\n",
              "    }\n",
              "\n",
              "    .dataframe tbody tr th {\n",
              "        vertical-align: top;\n",
              "    }\n",
              "\n",
              "    .dataframe thead th {\n",
              "        text-align: right;\n",
              "    }\n",
              "</style>\n",
              "<table border=\"1\" class=\"dataframe\">\n",
              "  <thead>\n",
              "    <tr style=\"text-align: right;\">\n",
              "      <th></th>\n",
              "      <th>user_id</th>\n",
              "      <th>order_id</th>\n",
              "    </tr>\n",
              "  </thead>\n",
              "  <tbody>\n",
              "    <tr>\n",
              "      <th>2</th>\n",
              "      <td>3</td>\n",
              "      <td>2774568</td>\n",
              "    </tr>\n",
              "    <tr>\n",
              "      <th>3</th>\n",
              "      <td>4</td>\n",
              "      <td>329954</td>\n",
              "    </tr>\n",
              "    <tr>\n",
              "      <th>5</th>\n",
              "      <td>6</td>\n",
              "      <td>1528013</td>\n",
              "    </tr>\n",
              "    <tr>\n",
              "      <th>10</th>\n",
              "      <td>11</td>\n",
              "      <td>1376945</td>\n",
              "    </tr>\n",
              "    <tr>\n",
              "      <th>11</th>\n",
              "      <td>12</td>\n",
              "      <td>1356845</td>\n",
              "    </tr>\n",
              "  </tbody>\n",
              "</table>\n",
              "</div>"
            ],
            "text/plain": [
              "    user_id  order_id\n",
              "2         3   2774568\n",
              "3         4    329954\n",
              "5         6   1528013\n",
              "10       11   1376945\n",
              "11       12   1356845"
            ]
          },
          "execution_count": 72,
          "metadata": {},
          "output_type": "execute_result"
        }
      ],
      "source": [
        "#Creating a submission file\n",
        "PATH = '../../data/'\n",
        "orders = pd.read_csv(PATH + 'orders.csv')\n",
        "orders_test = orders.loc[orders.eval_set == 'test', ['user_id', 'order_id']]\n",
        "orders_test.head()"
      ]
    },
    {
      "cell_type": "code",
      "execution_count": null,
      "id": "90f912f6",
      "metadata": {
        "id": "90f912f6",
        "outputId": "ae83af61-2548-4638-b2d1-9dbd72d5f77c"
      },
      "outputs": [
        {
          "data": {
            "text/html": [
              "<div>\n",
              "<style scoped>\n",
              "    .dataframe tbody tr th:only-of-type {\n",
              "        vertical-align: middle;\n",
              "    }\n",
              "\n",
              "    .dataframe tbody tr th {\n",
              "        vertical-align: top;\n",
              "    }\n",
              "\n",
              "    .dataframe thead th {\n",
              "        text-align: right;\n",
              "    }\n",
              "</style>\n",
              "<table border=\"1\" class=\"dataframe\">\n",
              "  <thead>\n",
              "    <tr style=\"text-align: right;\">\n",
              "      <th></th>\n",
              "      <th>product_id</th>\n",
              "      <th>user_id</th>\n",
              "      <th>prediction</th>\n",
              "      <th>order_id</th>\n",
              "    </tr>\n",
              "  </thead>\n",
              "  <tbody>\n",
              "    <tr>\n",
              "      <th>0</th>\n",
              "      <td>248</td>\n",
              "      <td>3</td>\n",
              "      <td>0</td>\n",
              "      <td>2774568</td>\n",
              "    </tr>\n",
              "    <tr>\n",
              "      <th>1</th>\n",
              "      <td>1005</td>\n",
              "      <td>3</td>\n",
              "      <td>0</td>\n",
              "      <td>2774568</td>\n",
              "    </tr>\n",
              "    <tr>\n",
              "      <th>2</th>\n",
              "      <td>1819</td>\n",
              "      <td>3</td>\n",
              "      <td>0</td>\n",
              "      <td>2774568</td>\n",
              "    </tr>\n",
              "    <tr>\n",
              "      <th>3</th>\n",
              "      <td>7503</td>\n",
              "      <td>3</td>\n",
              "      <td>0</td>\n",
              "      <td>2774568</td>\n",
              "    </tr>\n",
              "    <tr>\n",
              "      <th>4</th>\n",
              "      <td>8021</td>\n",
              "      <td>3</td>\n",
              "      <td>0</td>\n",
              "      <td>2774568</td>\n",
              "    </tr>\n",
              "  </tbody>\n",
              "</table>\n",
              "</div>"
            ],
            "text/plain": [
              "   product_id  user_id  prediction  order_id\n",
              "0         248        3           0   2774568\n",
              "1        1005        3           0   2774568\n",
              "2        1819        3           0   2774568\n",
              "3        7503        3           0   2774568\n",
              "4        8021        3           0   2774568"
            ]
          },
          "execution_count": 73,
          "metadata": {},
          "output_type": "execute_result"
        }
      ],
      "source": [
        "#merging our prediction with orders_test\n",
        "final = final.merge(orders_test, on='user_id', how='left')\n",
        "final.head()"
      ]
    },
    {
      "cell_type": "code",
      "execution_count": null,
      "id": "fef4eb08",
      "metadata": {
        "id": "fef4eb08"
      },
      "outputs": [],
      "source": [
        "#remove user_id column\n",
        "final = final.drop('user_id', axis=1)"
      ]
    },
    {
      "cell_type": "code",
      "execution_count": null,
      "id": "afbcecac",
      "metadata": {
        "id": "afbcecac",
        "outputId": "1cb821a9-f812-4011-c2e5-d7cbd8093ffa"
      },
      "outputs": [
        {
          "data": {
            "text/html": [
              "<div>\n",
              "<style scoped>\n",
              "    .dataframe tbody tr th:only-of-type {\n",
              "        vertical-align: middle;\n",
              "    }\n",
              "\n",
              "    .dataframe tbody tr th {\n",
              "        vertical-align: top;\n",
              "    }\n",
              "\n",
              "    .dataframe thead th {\n",
              "        text-align: right;\n",
              "    }\n",
              "</style>\n",
              "<table border=\"1\" class=\"dataframe\">\n",
              "  <thead>\n",
              "    <tr style=\"text-align: right;\">\n",
              "      <th></th>\n",
              "      <th>product_id</th>\n",
              "      <th>prediction</th>\n",
              "      <th>order_id</th>\n",
              "    </tr>\n",
              "  </thead>\n",
              "  <tbody>\n",
              "    <tr>\n",
              "      <th>0</th>\n",
              "      <td>248</td>\n",
              "      <td>0</td>\n",
              "      <td>2774568</td>\n",
              "    </tr>\n",
              "    <tr>\n",
              "      <th>1</th>\n",
              "      <td>1005</td>\n",
              "      <td>0</td>\n",
              "      <td>2774568</td>\n",
              "    </tr>\n",
              "    <tr>\n",
              "      <th>2</th>\n",
              "      <td>1819</td>\n",
              "      <td>0</td>\n",
              "      <td>2774568</td>\n",
              "    </tr>\n",
              "    <tr>\n",
              "      <th>3</th>\n",
              "      <td>7503</td>\n",
              "      <td>0</td>\n",
              "      <td>2774568</td>\n",
              "    </tr>\n",
              "    <tr>\n",
              "      <th>4</th>\n",
              "      <td>8021</td>\n",
              "      <td>0</td>\n",
              "      <td>2774568</td>\n",
              "    </tr>\n",
              "  </tbody>\n",
              "</table>\n",
              "</div>"
            ],
            "text/plain": [
              "   product_id  prediction  order_id\n",
              "0         248           0   2774568\n",
              "1        1005           0   2774568\n",
              "2        1819           0   2774568\n",
              "3        7503           0   2774568\n",
              "4        8021           0   2774568"
            ]
          },
          "execution_count": 75,
          "metadata": {},
          "output_type": "execute_result"
        }
      ],
      "source": [
        "#convert product_id as integer\n",
        "final['product_id'] = final.product_id.astype(int)\n",
        "\n",
        "## Remove all unnecessary objects\n",
        "#del orders\n",
        "#del orders_test\n",
        "#gc.collect()\n",
        "\n",
        "final.head()"
      ]
    }
  ],
  "metadata": {
    "colab": {
      "name": "03_preprocessingPartII_04_Modeling.ipynb",
      "provenance": [],
      "include_colab_link": true
    },
    "kernelspec": {
      "display_name": "Python 3",
      "language": "python",
      "name": "python3"
    },
    "language_info": {
      "codemirror_mode": {
        "name": "ipython",
        "version": 3
      },
      "file_extension": ".py",
      "mimetype": "text/x-python",
      "name": "python",
      "nbconvert_exporter": "python",
      "pygments_lexer": "ipython3",
      "version": "3.8.8"
    }
  },
  "nbformat": 4,
  "nbformat_minor": 5
}